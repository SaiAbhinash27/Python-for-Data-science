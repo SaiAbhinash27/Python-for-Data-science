{
 "cells": [
  {
   "cell_type": "markdown",
   "metadata": {},
   "source": [
    "## Question 1"
   ]
  },
  {
   "cell_type": "markdown",
   "metadata": {},
   "source": [
    "- `Take two integer numbers and return their product. If the product is greater than 1000, then return their sum if product is less than 1000 return product value only.`\n",
    "\n"
   ]
  },
  {
   "cell_type": "code",
   "execution_count": 54,
   "metadata": {},
   "outputs": [
    {
     "name": "stdout",
     "output_type": "stream",
     "text": [
      "120\n"
     ]
    }
   ],
   "source": [
    "# Please write The solution Here for above question 1:\n",
    "\n",
    "#1 ***by using only if and else conditions***\n",
    "a,b= 100,20\n",
    "c = 0\n",
    "if a*b>1000:\n",
    "    c = a+b\n",
    "else:\n",
    "    c=a*b\n",
    "print(c)\n",
    "\n"
   ]
  },
  {
   "cell_type": "code",
   "execution_count": 55,
   "metadata": {},
   "outputs": [
    {
     "name": "stdout",
     "output_type": "stream",
     "text": [
      "500\n"
     ]
    }
   ],
   "source": [
    "#2 ***by using functions***\n",
    "\n",
    "def product_values(x,y):\n",
    "    temp_value = x*y\n",
    "    if temp_value > 1000:\n",
    "        return x + y\n",
    "    else:\n",
    "        return x*y\n",
    "integer_1 = 100\n",
    "integer_2 = 5\n",
    "\n",
    "result_value = product_values(integer_1,integer_2)\n",
    "print(result_value)"
   ]
  },
  {
   "cell_type": "code",
   "execution_count": 56,
   "metadata": {},
   "outputs": [
    {
     "name": "stdout",
     "output_type": "stream",
     "text": [
      "115\n"
     ]
    }
   ],
   "source": [
    "#3 ***by using comprehensions***\n",
    "\n",
    "i = 100\n",
    "j = 15\n",
    "\n",
    "k = int(''.join([str(i+j) if i*j>1000 else str(i*j)]))  # this is a list comprehension we are getting results in 'list format', here ''.join is used to convert list to string. After that again converting the string into integer by using int keyword.\n",
    "\n",
    "print(k)"
   ]
  },
  {
   "cell_type": "markdown",
   "metadata": {},
   "source": [
    "## question 2 "
   ]
  },
  {
   "cell_type": "markdown",
   "metadata": {},
   "source": [
    "- `Given a range of the first 10 numbers, Iterate from the start number to the end number, and In each iteration print the sum of the current number and previous number`\n",
    "\n",
    "Expected output:\n",
    "-----------------\n",
    "    Printing current and previous number sum in a range(10)\n",
    "    Current Number 0 Previous Number  0  Sum:  0\n",
    "    Current Number 1 Previous Number  0  Sum:  1\n",
    "    Current Number 2 Previous Number  1  Sum:  3\n",
    "    Current Number 3 Previous Number  2  Sum:  5\n",
    "    Current Number 4 Previous Number  3  Sum:  7\n",
    "    Current Number 5 Previous Number  4  Sum:  9\n",
    "    Current Number 6 Previous Number  5  Sum:  11\n",
    "    Current Number 7 Previous Number  6  Sum:  13\n",
    "    Current Number 8 Previous Number  7  Sum:  15\n",
    "    Current Number 9 Previous Number  8  Sum:  17"
   ]
  },
  {
   "cell_type": "code",
   "execution_count": 57,
   "metadata": {},
   "outputs": [
    {
     "name": "stdout",
     "output_type": "stream",
     "text": [
      "Current Number 0, Previous Number 0, Sum: 0\n",
      "Current Number 1, Previous Number 0, Sum: 1\n",
      "Current Number 2, Previous Number 1, Sum: 3\n",
      "Current Number 3, Previous Number 2, Sum: 5\n",
      "Current Number 4, Previous Number 3, Sum: 7\n",
      "Current Number 5, Previous Number 4, Sum: 9\n",
      "Current Number 6, Previous Number 5, Sum: 11\n",
      "Current Number 7, Previous Number 6, Sum: 13\n",
      "Current Number 8, Previous Number 7, Sum: 15\n",
      "Current Number 9, Previous Number 8, Sum: 17\n"
     ]
    }
   ],
   "source": [
    "# Please write The solution Here for above question 2:\n",
    "#1 ***by using functions*** \n",
    "def sum_function(a,b):\n",
    "    for i in range(a,b):\n",
    "        previous_number = int(''.join([str(0) if i-1 == 0 or i-1 == -1 else str(i-1)]))\n",
    "        sum_values = i + previous_number\n",
    "        print (f'Current Number {i}, Previous Number {previous_number}, Sum: {sum_values}')\n",
    "x = 0\n",
    "y = 10        \n",
    "sum_function(x,y)\n",
    "\n"
   ]
  },
  {
   "cell_type": "code",
   "execution_count": 58,
   "metadata": {},
   "outputs": [
    {
     "name": "stdout",
     "output_type": "stream",
     "text": [
      "Current Number 0, Previous Number 0, Sum: 0\n",
      "Current Number 1, Previous Number 0, Sum: 1\n",
      "Current Number 2, Previous Number 1, Sum: 3\n",
      "Current Number 3, Previous Number 2, Sum: 5\n",
      "Current Number 4, Previous Number 3, Sum: 7\n",
      "Current Number 5, Previous Number 4, Sum: 9\n",
      "Current Number 6, Previous Number 5, Sum: 11\n",
      "Current Number 7, Previous Number 6, Sum: 13\n",
      "Current Number 8, Previous Number 7, Sum: 15\n",
      "Current Number 9, Previous Number 8, Sum: 17\n",
      "Current Number 10, Previous Number 9, Sum: 19\n"
     ]
    }
   ],
   "source": [
    "#2 *** By using only for loop***\n",
    " \n",
    "for i in range(11):\n",
    "    previous_number = int(''.join([str(0) if i-1 == 0 or i-1 == -1 else str(i-1)]))\n",
    "    sum_values = i + previous_number\n",
    "    print(f'Current Number {i}, Previous Number {previous_number}, Sum: {sum_values}')"
   ]
  },
  {
   "cell_type": "markdown",
   "metadata": {},
   "source": [
    "## question 3 "
   ]
  },
  {
   "cell_type": "markdown",
   "metadata": {},
   "source": [
    "Given a string and an integer number n, remove characters from a string starting from zero up to n and return a new string\n",
    "\n",
    "- Example :\n",
    "     `(\"pynative\", 4) so output must be tive.`\n",
    "     \n",
    "     `Note: n must be less than the length of the string.`"
   ]
  },
  {
   "cell_type": "code",
   "execution_count": 44,
   "metadata": {},
   "outputs": [
    {
     "name": "stdout",
     "output_type": "stream",
     "text": [
      "reddy\n",
      "tive\n"
     ]
    }
   ],
   "source": [
    "# Please write The solution Here for above question 3:\n",
    "\n",
    "def new_string(a,b):\n",
    "    return a[b:]\n",
    "    \n",
    "a,b = 'abhinash reddy',9\n",
    "result = new_string(a,b)\n",
    "print(result)\n",
    "\n",
    "\n",
    "a,b = 'pynative',4\n",
    "result = new_string(a,b)\n",
    "print(result)\n"
   ]
  },
  {
   "cell_type": "markdown",
   "metadata": {},
   "source": [
    "## question 4"
   ]
  },
  {
   "cell_type": "markdown",
   "metadata": {},
   "source": [
    "### `Given a list of numbers, return True if first and last number of a list is same`\n",
    "\n",
    "    Expected Output:\n",
    "    -------------------------------------\n",
    "\n",
    "    Given list is \n",
    "    a =  [10, 20, 30, 40, 10]\n",
    "    b = [10 , 20 , 30 , 40, 10 ]\n",
    "    result is True\n",
    "\n",
    "    Given list is  \n",
    "    a = [10, 20, 30, 40, 50]\n",
    "    b = [11 , 21 , 31 , 41 , 51 ] \n",
    "    result is False"
   ]
  },
  {
   "cell_type": "code",
   "execution_count": 61,
   "metadata": {},
   "outputs": [
    {
     "name": "stdout",
     "output_type": "stream",
     "text": [
      "Given list is\n",
      "a = [10, 20, 30, 40, 10]\n",
      "b = [10, 20, 30, 40, 50, 10]\n",
      "result is True\n",
      "---------\n",
      "Given list is\n",
      "a = [1, 2, 3, 4, 5]\n",
      "b = [6, 7, 8, 9, 10]\n",
      "result is False\n"
     ]
    }
   ],
   "source": [
    "# Please write The solution Here for above question 4:\n",
    "def same_values(a,b):\n",
    "    if a[0] == a[-1] and b[0] == b[-1]:\n",
    "        return True\n",
    "    else:\n",
    "        return False\n",
    "           \n",
    "a = [10,20,30,40,10]\n",
    "b = [10,20,30,40,50,10]\n",
    "Result = same_values(a,b)\n",
    "print(f'Given list is\\na = {a}\\nb = {b}\\nresult is {Result}')\n",
    "\n",
    "print('---------')\n",
    "\n",
    "a = [1,2,3,4,5]\n",
    "b = [6,7,8,9,10]\n",
    "Result = same_values(a,b)\n",
    "print(f'Given list is\\na = {a}\\nb = {b}\\nresult is {Result}')\n",
    "\n"
   ]
  },
  {
   "cell_type": "markdown",
   "metadata": {},
   "source": [
    "## question 5"
   ]
  },
  {
   "cell_type": "markdown",
   "metadata": {},
   "source": [
    "### Given a two Python list. Iterate both lists simultaneously such that list1 should display item in original order and list2 in reverse order\n",
    "\n",
    "    list1 = [10, 20, 30, 40]\n",
    "    list2 = [100, 200, 300, 400]\n",
    "\n",
    "\n",
    "    Expected output:\n",
    "    -----------------------------\n",
    "    10 400\n",
    "    20 300\n",
    "    30 200\n",
    "    40 100"
   ]
  },
  {
   "cell_type": "code",
   "execution_count": 62,
   "metadata": {},
   "outputs": [
    {
     "name": "stdout",
     "output_type": "stream",
     "text": [
      "1 11\n",
      "2 9\n",
      "3 8\n",
      "4 7\n",
      "5 6\n"
     ]
    }
   ],
   "source": [
    "# Please write The solution Here for above question 5:\n",
    "\n",
    "def print_lists(a,b):\n",
    "    temp = b[::-1]\n",
    "    for i in range(0,len(a)):\n",
    "        print(f'{a[i]} {temp[i]}')\n",
    "\n",
    "\n",
    "\n",
    "\n",
    "list_1 = [1,2,3,4,5]\n",
    "list_2 = [6,7,8,9,11]\n",
    "print_lists(list_1, list_2)\n"
   ]
  },
  {
   "cell_type": "markdown",
   "metadata": {},
   "source": [
    "## question 6 "
   ]
  },
  {
   "cell_type": "markdown",
   "metadata": {},
   "source": [
    "### Remove empty strings from the list of strings\n",
    "\n",
    "\n",
    "    list1 = [\"Mike\", \"\", \"Emma\", \"Kelly\", \"\", \"Brad\"]\n",
    "\n",
    "    Expected output:\n",
    "    ----------------------\n",
    "\n",
    "    [\"Mike\", \"Emma\", \"Kelly\", \"Brad\"]\n"
   ]
  },
  {
   "cell_type": "code",
   "execution_count": 5,
   "metadata": {},
   "outputs": [],
   "source": [
    "# Please write The solution Here for above question 6:\n",
    "def remove_emptystrings(a):\n",
    "    b =[]\n",
    "    for i in a:\n",
    "        if i == '':pass\n",
    "        else:b.append(i)\n",
    "    return b\n",
    "\n",
    "list1 = ['mike','','abhi','','sai','kohli','','rohith']\n",
    "result = remove_emptystrings(list1)\n",
    "print(result)\n"
   ]
  },
  {
   "cell_type": "code",
   "execution_count": 63,
   "metadata": {},
   "outputs": [
    {
     "name": "stdout",
     "output_type": "stream",
     "text": [
      "['mike', 'abhi', 'sai', 'kohli', 'rohith']\n"
     ]
    }
   ],
   "source": [
    "def remove_emptystrings(a):\n",
    "    \n",
    "    print([i for i in a if len(i)>0])\n",
    "        \n",
    "list1 = ['mike','','abhi','','sai','kohli','','rohith']\n",
    "remove_emptystrings(list1)"
   ]
  },
  {
   "cell_type": "code",
   "execution_count": null,
   "metadata": {},
   "outputs": [],
   "source": []
  }
 ],
 "metadata": {
  "kernelspec": {
   "display_name": "Python 3 (ipykernel)",
   "language": "python",
   "name": "python3"
  },
  "language_info": {
   "codemirror_mode": {
    "name": "ipython",
    "version": 3
   },
   "file_extension": ".py",
   "mimetype": "text/x-python",
   "name": "python",
   "nbconvert_exporter": "python",
   "pygments_lexer": "ipython3",
   "version": "3.12.1"
  }
 },
 "nbformat": 4,
 "nbformat_minor": 4
}
