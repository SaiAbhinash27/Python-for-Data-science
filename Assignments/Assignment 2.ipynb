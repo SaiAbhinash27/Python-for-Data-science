{
 "cells": [
  {
   "cell_type": "markdown",
   "metadata": {},
   "source": [
    "1 . Print the input text without vowels using List comprehensions\n",
    "\n",
    "input = 'hai'\n",
    "Expected output = h"
   ]
  },
  {
   "cell_type": "code",
   "execution_count": 102,
   "metadata": {},
   "outputs": [
    {
     "name": "stdout",
     "output_type": "stream",
     "text": [
      "h\n"
     ]
    }
   ],
   "source": [
    "input_ = 'hai'\n",
    "vowels = 'aeiouAEIOU'\n",
    "\n",
    "print(''.join([i for i in input_ if i not in vowels])) \n",
    "\n"
   ]
  },
  {
   "cell_type": "markdown",
   "metadata": {},
   "source": [
    "Print only vowels from the text using List comprehensions\n",
    "\n",
    "input = data\n",
    "Expected output = dt\n",
    "\n",
    "Note: As per the question expected output should be 'aa'"
   ]
  },
  {
   "cell_type": "code",
   "execution_count": 103,
   "metadata": {},
   "outputs": [
    {
     "name": "stdout",
     "output_type": "stream",
     "text": [
      "aa\n"
     ]
    }
   ],
   "source": [
    "input_ = 'data'\n",
    "Vowels = 'aeiouAEIOU'\n",
    "print(''.join([i for i in input_ if i in Vowels]))\n"
   ]
  },
  {
   "cell_type": "markdown",
   "metadata": {},
   "source": [
    "print each valu from the list with its index\n",
    "\n",
    "input = [10,11,50,34]\n",
    "\n",
    "Expected output = [100 , 111 , 502 , 343]\n"
   ]
  },
  {
   "cell_type": "code",
   "execution_count": 104,
   "metadata": {},
   "outputs": [
    {
     "name": "stdout",
     "output_type": "stream",
     "text": [
      "[100, 111, 502, 343]\n"
     ]
    }
   ],
   "source": [
    "input_ = [10,11,50,34]\n",
    "result = []\n",
    "\n",
    "for i in input_:\n",
    "    i = str(i)+str(input_.index(i))\n",
    "    result.append(int(i))\n",
    "\n",
    "print(result)"
   ]
  },
  {
   "cell_type": "markdown",
   "metadata": {},
   "source": [
    "This is a Python Program to print all integers that aren’t divisible by either 2 or 3 and lies between 1 and 50."
   ]
  },
  {
   "cell_type": "code",
   "execution_count": 105,
   "metadata": {},
   "outputs": [
    {
     "name": "stdout",
     "output_type": "stream",
     "text": [
      "[1, 5, 7, 11, 13, 17, 19, 23, 25, 29, 31, 35, 37, 41, 43, 47, 49]\n"
     ]
    }
   ],
   "source": [
    "result = []\n",
    "\n",
    "for i in range(1,51):\n",
    "    if i%2!=0 and i%3!=0:\n",
    "        result.append(i)\n",
    "\n",
    "print(result)"
   ]
  },
  {
   "cell_type": "code",
   "execution_count": 14,
   "metadata": {},
   "outputs": [
    {
     "name": "stdout",
     "output_type": "stream",
     "text": [
      "[1, 5, 7, 11, 13, 17, 19, 23, 25, 29, 31, 35, 37, 41, 43, 47, 49]\n"
     ]
    }
   ],
   "source": [
    "print([i for i in range(1,51) if i%2!=0 and i%3!=0])"
   ]
  },
  {
   "cell_type": "markdown",
   "metadata": {},
   "source": [
    "The program takes in an integer and prints the smallest divisor of the integer.\n"
   ]
  },
  {
   "cell_type": "code",
   "execution_count": 19,
   "metadata": {},
   "outputs": [
    {
     "name": "stdout",
     "output_type": "stream",
     "text": [
      "the smallest divisor of 20 otherthan 1 is 2\n"
     ]
    }
   ],
   "source": [
    "a = int(input('Enter one random integer: '))\n",
    "\n",
    "for i in range(1,a+1):\n",
    "    if a%i==0:\n",
    "        if i==1:\n",
    "            pass\n",
    "        else:\n",
    "            print(f'the smallest divisor of {a} otherthan 1 is {i}')\n",
    "            break\n"
   ]
  },
  {
   "cell_type": "code",
   "execution_count": 22,
   "metadata": {},
   "outputs": [
    {
     "name": "stdout",
     "output_type": "stream",
     "text": [
      "the smallest divisor of 45 otherthan 1 is 3\n"
     ]
    }
   ],
   "source": [
    "a = int(input('Enter one random integer: '))\n",
    "temp = 2\n",
    "\n",
    "while temp>0:\n",
    "    if a%temp==0:\n",
    "        print(f'the smallest divisor of {a} otherthan 1 is {temp}')\n",
    "        break\n",
    "    else:\n",
    "        temp=temp+1\n"
   ]
  },
  {
   "cell_type": "markdown",
   "metadata": {},
   "source": [
    "Write a Python program to check if it is a strong number or not .\n"
   ]
  },
  {
   "cell_type": "code",
   "execution_count": 108,
   "metadata": {},
   "outputs": [
    {
     "name": "stdout",
     "output_type": "stream",
     "text": [
      "the number you enetered is not \"strong number\"\n"
     ]
    }
   ],
   "source": [
    "a = input('Enter the number: ')\n",
    "temp = 0\n",
    "for i in a:\n",
    "    factor = 1\n",
    "    for j in range(1,int(i)+1):\n",
    "        factor = factor*j\n",
    "    temp = temp+factor\n",
    "if int(a) == temp:\n",
    "    print(f'the number you entered is \"Strong number\"')\n",
    "else:\n",
    "    print(f'the number you enetered is not \"strong number\"')\n",
    "\n",
    "    \n"
   ]
  },
  {
   "cell_type": "markdown",
   "metadata": {},
   "source": [
    "Write a Python program that takes input from the user and displays that input back in upper and lower cases"
   ]
  },
  {
   "cell_type": "code",
   "execution_count": 109,
   "metadata": {},
   "outputs": [
    {
     "name": "stdout",
     "output_type": "stream",
     "text": [
      "PYTHON\n",
      "python\n"
     ]
    }
   ],
   "source": [
    "def func(a):\n",
    "    uppercase = a.upper()\n",
    "    lowercase = a.lower()\n",
    "    return f'{uppercase}\\n{lowercase}'\n",
    "\n",
    "user_input = input('enter the input: ')\n",
    "result = func(user_input)\n",
    "print(result)"
   ]
  },
  {
   "cell_type": "markdown",
   "metadata": {},
   "source": [
    "Write a Python program to remove spaces from a given string\n",
    "\n",
    "input = united states\n",
    "output = unitedstates\n"
   ]
  },
  {
   "cell_type": "code",
   "execution_count": 110,
   "metadata": {},
   "outputs": [
    {
     "name": "stdout",
     "output_type": "stream",
     "text": [
      "unitedstates\n"
     ]
    }
   ],
   "source": [
    "input_ = 'united states'\n",
    "print(''.join([i for i in input_ if i != ' ']))\n"
   ]
  },
  {
   "cell_type": "markdown",
   "metadata": {},
   "source": [
    "Write a Python program to capitalize first and last letters of each word of a given string."
   ]
  },
  {
   "cell_type": "code",
   "execution_count": 111,
   "metadata": {},
   "outputs": [
    {
     "name": "stdout",
     "output_type": "stream",
     "text": [
      "SaI AbhinasH\n"
     ]
    }
   ],
   "source": [
    "def func(a):\n",
    "    a = a.title()\n",
    "    a = a.split()\n",
    "    temp = []\n",
    "\n",
    "    for i in a:\n",
    "        temp.append(i[:-1]+i[-1].upper())\n",
    "    return (' '.join(temp))\n",
    "        \n",
    "a = 'sai abhinash'\n",
    "\n",
    "result = func(a)\n",
    "\n",
    "print(result)"
   ]
  },
  {
   "cell_type": "markdown",
   "metadata": {},
   "source": [
    "write a python program to find length of a string but should not use        len keyword\n"
   ]
  },
  {
   "cell_type": "code",
   "execution_count": 112,
   "metadata": {},
   "outputs": [
    {
     "name": "stdout",
     "output_type": "stream",
     "text": [
      "length of the given string is 6\n"
     ]
    }
   ],
   "source": [
    "a = 'python'\n",
    "b = 0\n",
    "\n",
    "for i in a:\n",
    "    b = b+1\n",
    "print(f'length of the given string is {b}')\n"
   ]
  },
  {
   "cell_type": "code",
   "execution_count": null,
   "metadata": {},
   "outputs": [],
   "source": []
  }
 ],
 "metadata": {
  "kernelspec": {
   "display_name": "Python 3",
   "language": "python",
   "name": "python3"
  },
  "language_info": {
   "codemirror_mode": {
    "name": "ipython",
    "version": 3
   },
   "file_extension": ".py",
   "mimetype": "text/x-python",
   "name": "python",
   "nbconvert_exporter": "python",
   "pygments_lexer": "ipython3",
   "version": "3.12.1"
  }
 },
 "nbformat": 4,
 "nbformat_minor": 2
}
