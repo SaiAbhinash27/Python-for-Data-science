{
 "cells": [
  {
   "cell_type": "markdown",
   "metadata": {},
   "source": [
    "Question 1: String Manipulation \n",
    "\n",
    "Question: Write a Python function that takes a string and returns a dictionary with the count of each vowel (a, e, i, o, u) in the string. Ignore case.\n",
    "\n",
    "Sample Input: \n",
    "\n",
    "A= \"Hello World\" \n",
    "\n",
    "Sample Output: \n",
    "\n",
    "{'a':0,'e':1,'i':0,'o':2,'u':0}\n"
   ]
  },
  {
   "cell_type": "code",
   "execution_count": 182,
   "metadata": {},
   "outputs": [
    {
     "name": "stdout",
     "output_type": "stream",
     "text": [
      "{'a': 0, 'e': 1, 'i': 0, 'o': 2, 'u': 0}\n"
     ]
    }
   ],
   "source": [
    "A = 'Hello WOrld'\n",
    "A = A.lower()\n",
    "vowel = 'aeiou'\n",
    "dict = {}\n",
    "\n",
    "for i in vowel:\n",
    "    if i in A:\n",
    "        dict[i] = A.count(i)\n",
    "    else:\n",
    "        dict[i] = A.count(i)\n",
    "print(dict)\n"
   ]
  },
  {
   "cell_type": "markdown",
   "metadata": {},
   "source": [
    "Question 2: List and Loops \n",
    "\n",
    "Question: Write a Python function that takes a list of integers and returns a new list \n",
    "containing only the prime numbers from the original list.\n",
    "\n",
    "Sample Input: \n",
    "\n",
    "A = [2,3,4,5,6,7,8,9,10]\n",
    "\n",
    "Sample Output: \n",
    "\n",
    "[2,3,5,7]\n"
   ]
  },
  {
   "cell_type": "code",
   "execution_count": 183,
   "metadata": {},
   "outputs": [
    {
     "name": "stdout",
     "output_type": "stream",
     "text": [
      "[2, 3, 5, 7]\n"
     ]
    }
   ],
   "source": [
    "A = [2,3,4,5,6,7,8,9,10]\n",
    "x = []\n",
    "\n",
    "for i in A:\n",
    "    if i <=1:\n",
    "        pass\n",
    "    else:\n",
    "        for j in range(2,i):\n",
    "            if i%j == 0:\n",
    "                break\n",
    "        else:\n",
    "            x.append(i)\n",
    "print(x)\n",
    "        \n",
    "        \n"
   ]
  },
  {
   "cell_type": "markdown",
   "metadata": {},
   "source": [
    "Question 3: Tuple Operations \n",
    "\n",
    "Question: Write a Python function that takes a list of tuples, where each tuple contains two integers, and returns a list of tuples sorted by the second element in each tuple. \n",
    "\n",
    "Sample Input:\n",
    "\n",
    "A = [(1,3),(4,2),(2,5),(3,1)]\n",
    "\n",
    "Sample Output: \n",
    "\n",
    "[(3,1),(4,2),(1,3),(2,5)]\n"
   ]
  },
  {
   "cell_type": "code",
   "execution_count": 184,
   "metadata": {},
   "outputs": [
    {
     "name": "stdout",
     "output_type": "stream",
     "text": [
      "[(3, 1), (4, 2), (1, 3), (2, 5)]\n"
     ]
    }
   ],
   "source": [
    "A = [(1,3),(4,2),(2,5),(3,1)]\n",
    "x = A.copy()\n",
    "A=[i[1] for i in x]\n",
    "A.sort()\n",
    "for j in x:    \n",
    "    A[A.index(j[1])] = j\n",
    "print(A)"
   ]
  },
  {
   "cell_type": "code",
   "execution_count": 185,
   "metadata": {},
   "outputs": [
    {
     "name": "stdout",
     "output_type": "stream",
     "text": [
      "[(3, 1), (4, 2), (1, 3), (2, 5)]\n"
     ]
    }
   ],
   "source": [
    "A = [(1,3),(4,2),(2,5),(3,1)]\n",
    "A.sort(key=lambda i:i[1])\n",
    "print(A)"
   ]
  },
  {
   "cell_type": "markdown",
   "metadata": {},
   "source": [
    "Question 4: Set Operations \n",
    "\n",
    "Question: Write a Python function that takes two sets and returns a set containing elements that are in either of the sets but not in both. \n",
    "\n",
    "Sample Input:\n",
    "\n",
    "A = ({1,2,3},{3,4,5})\n",
    "\n",
    "Sample Output: \n",
    "\n",
    "{1,2,4,5}"
   ]
  },
  {
   "cell_type": "code",
   "execution_count": 186,
   "metadata": {},
   "outputs": [
    {
     "name": "stdout",
     "output_type": "stream",
     "text": [
      "{1, 2, 4, 5}\n"
     ]
    }
   ],
   "source": [
    "A = [{1,2,3},{3,4,5}]\n",
    "x = set()\n",
    "\n",
    "for i in A[0]:\n",
    "    if i not in A[1]:\n",
    "        x.add(i)\n",
    "for j in A[1]:\n",
    "    if j not in A[0]:\n",
    "        x.add(j)\n",
    "\n",
    "print(x) "
   ]
  },
  {
   "cell_type": "markdown",
   "metadata": {},
   "source": [
    "Question 5: Dictionary Manipulation \n",
    "\n",
    "Question: Write a Python function that takes a dictionary and returns a new dictionary with keys and values swapped. \n",
    "\n",
    "Sample Input: \n",
    "\n",
    "{'a':1,'b':2,'c':3}\n",
    "\n",
    "Sample Output: \n",
    "\n",
    "{1:'a',2:'b',3:'c'}"
   ]
  },
  {
   "cell_type": "code",
   "execution_count": 187,
   "metadata": {},
   "outputs": [
    {
     "name": "stdout",
     "output_type": "stream",
     "text": [
      "{1: 'a', 2: 'b', 3: 'c'}\n"
     ]
    }
   ],
   "source": [
    "dict1 = {'a':1,'b':2,'c':3} \n",
    "dict2 = {}\n",
    "\n",
    "for i,j in dict1.items():\n",
    "    dict2[j] = i\n",
    "\n",
    "print(dict2)"
   ]
  }
 ],
 "metadata": {
  "kernelspec": {
   "display_name": "Python 3",
   "language": "python",
   "name": "python3"
  },
  "language_info": {
   "codemirror_mode": {
    "name": "ipython",
    "version": 3
   },
   "file_extension": ".py",
   "mimetype": "text/x-python",
   "name": "python",
   "nbconvert_exporter": "python",
   "pygments_lexer": "ipython3",
   "version": "3.12.1"
  }
 },
 "nbformat": 4,
 "nbformat_minor": 2
}
