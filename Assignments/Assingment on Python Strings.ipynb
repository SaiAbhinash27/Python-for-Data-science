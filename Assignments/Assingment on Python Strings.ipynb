{
 "cells": [
  {
   "cell_type": "markdown",
   "id": "db689fc2",
   "metadata": {},
   "source": [
    "### Question 1: Write a Python program to count the number of characters in a string without using len function.\n",
    "\n",
    "- `sample input : `\n",
    "    - `var = 'python java'`\n",
    "- `sample output :`\n",
    "    - `result : 11`"
   ]
  },
  {
   "cell_type": "code",
   "execution_count": 2,
   "id": "c9ce9180",
   "metadata": {},
   "outputs": [
    {
     "name": "stdout",
     "output_type": "stream",
     "text": [
      "3\n"
     ]
    }
   ],
   "source": [
    "# Please write The solution Here for above question 1:\n",
    "\n",
    "\n",
    "input_1 = 'sai'\n",
    "output_1 = 0\n",
    "for a in input_1:\n",
    "    output_1 = output_1 + 1 \n",
    "\n",
    "print(output_1)"
   ]
  },
  {
   "cell_type": "markdown",
   "id": "46f069cc",
   "metadata": {},
   "source": [
    "### Question 2: Write a Python program to reverse a string without using [::-1]\n",
    "\n",
    "- `sample input : `\n",
    "    - `var = 'python'`\n",
    "- `sample output :`\n",
    "    - `result : nohtyp`"
   ]
  },
  {
   "cell_type": "code",
   "execution_count": 5,
   "id": "2cde3dcc",
   "metadata": {},
   "outputs": [
    {
     "name": "stdout",
     "output_type": "stream",
     "text": [
      "tariV\n"
     ]
    }
   ],
   "source": [
    "# Please write The solution Here for above question 2:\n",
    "input_2 = 'Virat'\n",
    "output_2 = ''\n",
    "for b in input_2:\n",
    "    output_2 = b+output_2\n",
    "print(output_2)\n",
    "\n"
   ]
  },
  {
   "cell_type": "markdown",
   "id": "65b89745",
   "metadata": {},
   "source": [
    "### Question 3: Write a Python program to check if a string is a palindrome don't use [::-1].\n",
    "\n",
    "- `sample input : `\n",
    "    - `var = 'NUN'`\n",
    "- `sample output :`\n",
    "    - `result : It is a Palindrome`\n",
    "    \n",
    "- `palindrome concept = https://www.dictionary.com/e/palindromic-word/#:~:text=A%20palindrome%20is%20a%20word,roots%20in%20the%20early%201600s.`"
   ]
  },
  {
   "cell_type": "code",
   "execution_count": 12,
   "id": "74b9f01a",
   "metadata": {},
   "outputs": [
    {
     "name": "stdout",
     "output_type": "stream",
     "text": [
      "It is a Palindrome\n"
     ]
    }
   ],
   "source": [
    "# Please write The solution Here for above question 3:\n",
    "input_3 = 'tenet'\n",
    "output_3 = ''\n",
    "\n",
    "for c in input_3:\n",
    "    output_3 = c + output_3\n",
    "if input_3 == output_3:\n",
    "    print('It is a Palindrome')\n",
    "else:\n",
    "    print('It is not a Palindrome')\n",
    "\n"
   ]
  },
  {
   "cell_type": "markdown",
   "id": "98e0fc60",
   "metadata": {},
   "source": [
    "### Question 4: Write a Python program to find the most common character in a string.\n",
    "\n",
    "- `sample input : `\n",
    "    - `var = 'Hello world '`\n",
    "- `sample output :`\n",
    "    - `result : l, because l is repeating 3 times `"
   ]
  },
  {
   "cell_type": "code",
   "execution_count": 68,
   "id": "d9aa4ca6",
   "metadata": {},
   "outputs": [
    {
     "name": "stdout",
     "output_type": "stream",
     "text": [
      "a&l, because a&l is repeating 3 times\n"
     ]
    }
   ],
   "source": [
    "# Please write The solution Here for above question 4:\n",
    "input_4 = 'suvarna vallley'\n",
    "temp = ''\n",
    "max_count = 0\n",
    "\n",
    "for x in input_4:\n",
    "    if input_4.count(x)>max_count:\n",
    "        max_count = input_4.count(x)\n",
    "for y in input_4:\n",
    "    if input_4.count(y)==max_count:\n",
    "        temp = temp + y \n",
    "\n",
    "repeated_characters = '&'.join(list(set(temp)))\n",
    "print(f'{repeated_characters}, because {repeated_characters} is repeating {max_count} times')\n"
   ]
  },
  {
   "cell_type": "markdown",
   "id": "17eb44eb",
   "metadata": {},
   "source": [
    "### Question 5: Write a Python program to check if two strings are anagrams.\n",
    "\n",
    "- `sample input : `\n",
    "    - `var1 = 'listen'`\n",
    "    - `var2 = 'silent'`\n",
    "- `sample output :`\n",
    "    - `result : both are anagram because characters in var2 is in var1`"
   ]
  },
  {
   "cell_type": "code",
   "execution_count": 73,
   "id": "29f0e87e",
   "metadata": {},
   "outputs": [
    {
     "name": "stdout",
     "output_type": "stream",
     "text": [
      "both are anagrams because character in var2 is in var1\n"
     ]
    }
   ],
   "source": [
    "# Please write The solution Here for above question 5:\n",
    "str1 = 'abhinash'\n",
    "str2 = 'sai'\n",
    "\n",
    "for i in str2:\n",
    "    if i in str1:\n",
    "       output = 'both are anagrams because character in var2 is in var1'\n",
    "    else:\n",
    "        output= 'both are bot anaragrams because characters in var2 is not in var1'\n",
    "        break\n",
    "print(output)\n",
    "\n"
   ]
  },
  {
   "cell_type": "markdown",
   "id": "fac17884",
   "metadata": {},
   "source": [
    "### Question 6: Write a Python program to remove all the vowels from a string.\n",
    "\n",
    "- `sample input : `\n",
    "    - `var = 'python'`\n",
    "- `sample output :`\n",
    "    - `result : pythn , because vowels are [AEIOUaeiou]`"
   ]
  },
  {
   "cell_type": "code",
   "execution_count": 77,
   "id": "f4b33095",
   "metadata": {},
   "outputs": [
    {
     "name": "stdout",
     "output_type": "stream",
     "text": [
      "bhnsh, beacuse vowels are [AEIOUaeiou]\n"
     ]
    }
   ],
   "source": [
    "# Please write The solution Here for above question 6:\n",
    "input_6= 'abhinash'\n",
    "vowels = 'AEIOUaeiou'\n",
    "output = ''\n",
    "for i in input_6:\n",
    "    if i not in vowels:\n",
    "        output = output+i\n",
    "    else:\n",
    "        continue\n",
    "print(f'{output}, beacuse vowels are [{vowels}]')\n",
    "\n"
   ]
  },
  {
   "cell_type": "markdown",
   "id": "2170d6f4",
   "metadata": {},
   "source": [
    "### Question 7: Write a Python program to find the longest word in a string.\n",
    "\n",
    "- `sample input : `\n",
    "    - `var = 'python is Easy Language'`\n",
    "- `sample output :`\n",
    "    - `result : Language`"
   ]
  },
  {
   "cell_type": "code",
   "execution_count": 2,
   "id": "f35de8b3",
   "metadata": {},
   "outputs": [
    {
     "name": "stdout",
     "output_type": "stream",
     "text": [
      "loveeee cricket \n"
     ]
    }
   ],
   "source": [
    "# Please write The solution Here for above question 7:\n",
    "input_7 = 'i loveeee cricket 1'\n",
    "output_7 = ''\n",
    "temp = input_7.split()\n",
    "max_len= 0\n",
    "for i in temp:\n",
    "    if len(i)>max_len:   \n",
    "        max_len = len(i)\n",
    "for i in temp:\n",
    "    if len(i) == max_len:\n",
    "        output_7 = output_7 + (f'{i} ')\n",
    "    else:\n",
    "        continue\n",
    "\n",
    "print(output_7)\n",
    "\n"
   ]
  },
  {
   "cell_type": "markdown",
   "id": "f349bdb7",
   "metadata": {},
   "source": [
    "### Question 8: Write a Python program to capitalize the first letter of each word in a string [dont use built-in-function title].\n",
    "\n",
    "- `sample input : `\n",
    "    - `var = 'python is easy'`\n",
    "- `sample output :`\n",
    "    - `result : Python Is Easy`"
   ]
  },
  {
   "cell_type": "code",
   "execution_count": 8,
   "id": "a1b4c4e6",
   "metadata": {},
   "outputs": [
    {
     "name": "stdout",
     "output_type": "stream",
     "text": [
      "My Favorite Cricker Is Virat, I Want To See Him Lifting World Cup \n",
      "My Favorite Cricker Is Virat, I Want To See Him Lifting World Cup "
     ]
    }
   ],
   "source": [
    "# Please write The solution Here for above question 8:\n",
    "input_8 = 'my favorite cricker is virat, i want to see him lifting world cup'\n",
    "temp = input_8.split()\n",
    "output_8 = ''\n",
    "\n",
    "for x in temp:\n",
    "    y= x.capitalize()\n",
    "    output_8 = output_8 + (f'{y} ')\n",
    "print (output_8)\n",
    "\n",
    "#method_2\n",
    "\n",
    "input_8 = 'my favorite cricker is virat, i want to see him lifting world cup'\n",
    "temp = input_8.split()\n",
    "output_8 = ''\n",
    "\n",
    "for x in temp:\n",
    "    y = x.capitalize()\n",
    "    print (y, end=' ')\n",
    "\n",
    "\n",
    "\n"
   ]
  },
  {
   "cell_type": "markdown",
   "id": "d2770696",
   "metadata": {},
   "source": [
    "### Question 9: Write a Python program to find the frequency of each character in a string.\n",
    "\n",
    "- `sample input : `\n",
    "    - `var = 'sharuk khan'`\n",
    "- `sample output :`\n",
    "    - `result : {'s': 1, 'h': 2, 'a': 2, 'r': 1, 'u': 1, 'k': 2, ' ': 1, 'n': 1}`"
   ]
  },
  {
   "cell_type": "code",
   "execution_count": 22,
   "id": "7fdc2e9c",
   "metadata": {},
   "outputs": [
    {
     "name": "stdout",
     "output_type": "stream",
     "text": [
      "{'s': 2, 'a': 5, 'i': 3, ' ': 2, 'b': 1, 'h': 2, 'n': 1, 'm': 1, 'v': 1, 'l': 2}\n",
      "{'s': 2, 'a': 5, 'i': 3, ' ': 2, 'b': 1, 'h': 2, 'n': 1, 'm': 1, 'v': 1, 'l': 2}\n"
     ]
    }
   ],
   "source": [
    "# Please write The solution Here for above question 9:\n",
    "input_9 = 'sai abhinash mavilla'\n",
    "output = {}\n",
    "chr_count = 0\n",
    "for i in input_9:\n",
    "    if input_9.count(i)>chr_count:\n",
    "        output [i] = input_9.count(i)\n",
    "\n",
    "print (output)\n",
    "\n",
    "# method 2\n",
    "\n",
    "input_9 = 'sai abhinash mavilla'\n",
    "output = {}\n",
    "chr_count = 0\n",
    "for i in input_9:\n",
    "    if i not in output:\n",
    "        output[i]=1\n",
    "    else:\n",
    "        output[i] = output[i] + 1\n",
    "\n",
    "print(output)\n"
   ]
  },
  {
   "cell_type": "markdown",
   "id": "5c9a3f09",
   "metadata": {},
   "source": [
    "### Question 10: write a python programme to find the sum of all the even characters based on Ascii values\n",
    "\n",
    "- `sample input : `\n",
    "    - `var = 'sharuk khan'`\n",
    "- `sample output :`\n",
    "    - `result : 464`\n"
   ]
  },
  {
   "cell_type": "code",
   "execution_count": 36,
   "id": "57c0c30e",
   "metadata": {},
   "outputs": [
    {
     "name": "stdout",
     "output_type": "stream",
     "text": [
      "868\n"
     ]
    }
   ],
   "source": [
    "# Please write The solution Here for above question 10:\n",
    "\n",
    "input = 'i completed my assignment'\n",
    "sum_chr = 0\n",
    "for i in input:\n",
    "    i=ord(i)\n",
    "    if i%2 == 0:\n",
    "        sum_chr = sum_chr + i\n",
    "print(sum_chr)\n",
    "\n",
    "\n",
    "\n",
    "\n",
    "\n",
    "\n",
    "\n",
    "# saikamal9797@gmail.com "
   ]
  },
  {
   "cell_type": "code",
   "execution_count": null,
   "id": "0cb2936c",
   "metadata": {},
   "outputs": [],
   "source": []
  }
 ],
 "metadata": {
  "kernelspec": {
   "display_name": "Python 3 (ipykernel)",
   "language": "python",
   "name": "python3"
  },
  "language_info": {
   "codemirror_mode": {
    "name": "ipython",
    "version": 3
   },
   "file_extension": ".py",
   "mimetype": "text/x-python",
   "name": "python",
   "nbconvert_exporter": "python",
   "pygments_lexer": "ipython3",
   "version": "3.12.1"
  }
 },
 "nbformat": 4,
 "nbformat_minor": 5
}
